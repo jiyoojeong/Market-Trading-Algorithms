{
 "cells": [
  {
   "cell_type": "markdown",
   "metadata": {},
   "source": [
    "# Project 6: Analyzing Stock Sentiment from Twits\n",
    "## Instructions\n",
    "Each problem consists of a function to implement and instructions on how to implement the function.  The parts of the function that need to be implemented are marked with a `# TODO` comment.\n",
    "\n",
    "## Packages\n",
    "When you implement the functions, you'll only need to you use the packages you've used in the classroom, like [Pandas](https://pandas.pydata.org/) and [Numpy](http://www.numpy.org/). These packages will be imported for you. We recommend you don't add any import statements, otherwise the grader might not be able to run your code.\n",
    "\n",
    "### Load Packages"
   ]
  },
  {
   "cell_type": "code",
   "execution_count": 1,
   "metadata": {},
   "outputs": [],
   "source": [
    "import json\n",
    "import nltk\n",
    "import os\n",
    "import random\n",
    "import re\n",
    "import torch\n",
    "\n",
    "from torch import nn, optim\n",
    "import torch.nn.functional as F"
   ]
  },
  {
   "cell_type": "markdown",
   "metadata": {},
   "source": [
    "## Introduction\n",
    "When deciding the value of a company, it's important to follow the news. For example, a product recall or natural disaster in a company's product chain. You want to be able to turn this information into a signal. Currently, the best tool for the job is a Neural Network. \n",
    "\n",
    "For this project, you'll use posts from the social media site [StockTwits](https://en.wikipedia.org/wiki/StockTwits). The community on StockTwits is full of investors, traders, and entrepreneurs. Each message posted is called a Twit. This is similar to Twitter's version of a post, called a Tweet. You'll build a model around these twits that generate a sentiment score.\n",
    "\n",
    "We've collected a bunch of twits, then hand labeled the sentiment of each. To capture the degree of sentiment, we'll use a five-point scale: very negative, negative, neutral, positive, very positive. Each twit is labeled -2 to 2 in steps of 1, from very negative to very positive respectively. You'll build a sentiment analysis model that will learn to assign sentiment to twits on its own, using this labeled data.\n",
    "\n",
    "The first thing we should to do, is load the data.\n",
    "\n",
    "## Import Twits \n",
    "### Load Twits Data \n",
    "This JSON file contains a list of objects for each twit in the `'data'` field:\n",
    "\n",
    "```\n",
    "{'data':\n",
    "  {'message_body': 'Neutral twit body text here',\n",
    "   'sentiment': 0},\n",
    "  {'message_body': 'Happy twit body text here',\n",
    "   'sentiment': 1},\n",
    "   ...\n",
    "}\n",
    "```\n",
    "\n",
    "The fields represent the following:\n",
    "\n",
    "* `'message_body'`: The text of the twit.\n",
    "* `'sentiment'`: Sentiment score for the twit, ranges from -2 to 2 in steps of 1, with 0 being neutral.\n",
    "\n",
    "\n",
    "To see what the data look like by printing the first 10 twits from the list. "
   ]
  },
  {
   "cell_type": "code",
   "execution_count": 2,
   "metadata": {},
   "outputs": [
    {
     "name": "stdout",
     "output_type": "stream",
     "text": [
      "[{'message_body': '$FITB great buy at 26.00...ill wait', 'sentiment': 2, 'timestamp': '2018-07-01T00:00:09Z'}, {'message_body': '@StockTwits $MSFT', 'sentiment': 1, 'timestamp': '2018-07-01T00:00:42Z'}, {'message_body': '#STAAnalystAlert for $TDG : Jefferies Maintains with a rating of Hold setting target price at USD 350.00. Our own verdict is Buy  http://www.stocktargetadvisor.com/toprating', 'sentiment': 2, 'timestamp': '2018-07-01T00:01:24Z'}, {'message_body': '$AMD I heard there’s a guy who knows someone who thinks somebody knows something - on StockTwits.', 'sentiment': 1, 'timestamp': '2018-07-01T00:01:47Z'}, {'message_body': '$AMD reveal yourself!', 'sentiment': 0, 'timestamp': '2018-07-01T00:02:13Z'}, {'message_body': '$AAPL Why the drop? I warren Buffet taking out his position?', 'sentiment': 1, 'timestamp': '2018-07-01T00:03:10Z'}, {'message_body': '$BA bears have 1 reason on 06-29 to pay more attention https://dividendbot.com?s=BA', 'sentiment': -2, 'timestamp': '2018-07-01T00:04:09Z'}, {'message_body': '$BAC ok good we&#39;re not dropping in price over the weekend, lol', 'sentiment': 1, 'timestamp': '2018-07-01T00:04:17Z'}, {'message_body': '$AMAT - Daily Chart, we need to get back to above 50.', 'sentiment': 2, 'timestamp': '2018-07-01T00:08:01Z'}, {'message_body': '$GME 3% drop per week after spike... if no news in 3 months, back to 12s... if BO, then bingo... what is the odds?', 'sentiment': -2, 'timestamp': '2018-07-01T00:09:03Z'}]\n"
     ]
    }
   ],
   "source": [
    "with open(os.path.join('..', '..', 'data', 'project_6_stocktwits', 'twits.json'), 'r') as f:\n",
    "    twits = json.load(f)\n",
    "\n",
    "print(twits['data'][:10])"
   ]
  },
  {
   "cell_type": "markdown",
   "metadata": {},
   "source": [
    "### Length of Data\n",
    "Now let's look at the number of twits in dataset. Print the number of twits below."
   ]
  },
  {
   "cell_type": "code",
   "execution_count": 3,
   "metadata": {},
   "outputs": [
    {
     "name": "stdout",
     "output_type": "stream",
     "text": [
      "1548010\n"
     ]
    }
   ],
   "source": [
    "\"\"\"print out the number of twits\"\"\"\n",
    "\n",
    "# TODO Implement \n",
    "print(len(twits['data']))\n"
   ]
  },
  {
   "cell_type": "markdown",
   "metadata": {},
   "source": [
    "### Split Message Body and Sentiment Score"
   ]
  },
  {
   "cell_type": "code",
   "execution_count": 4,
   "metadata": {},
   "outputs": [],
   "source": [
    "messages = [twit['message_body'] for twit in twits['data']]\n",
    "# Since the sentiment scores are discrete, we'll scale the sentiments to 0 to 4 for use in our network\n",
    "sentiments = [twit['sentiment'] + 2 for twit in twits['data']]"
   ]
  },
  {
   "cell_type": "markdown",
   "metadata": {},
   "source": [
    "## Preprocessing the Data\n",
    "With our data in hand we need to preprocess our text. These twits are collected by filtering on ticker symbols where these are denoted with a leader $ symbol in the twit itself. For example,\n",
    "\n",
    "`{'message_body': 'RT @google Our annual look at the year in Google blogging (and beyond) http://t.co/sptHOAh8 $GOOG',\n",
    " 'sentiment': 0}`\n",
    "\n",
    "The ticker symbols don't provide information on the sentiment, and they are in every twit, so we should remove them. This twit also has the `@google` username, again not providing sentiment information, so we should also remove it. We also see a URL `http://t.co/sptHOAh8`. Let's remove these too.\n",
    "\n",
    "The easiest way to remove specific words or phrases is with regex using the `re` module. You can sub out specific patterns with a space:\n",
    "\n",
    "```python\n",
    "re.sub(pattern, ' ', text)\n",
    "```\n",
    "This will substitute a space with anywhere the pattern matches in the text. Later when we tokenize the text, we'll split appropriately on those spaces."
   ]
  },
  {
   "cell_type": "markdown",
   "metadata": {},
   "source": [
    "### Pre-Processing"
   ]
  },
  {
   "cell_type": "code",
   "execution_count": 5,
   "metadata": {},
   "outputs": [
    {
     "name": "stdout",
     "output_type": "stream",
     "text": [
      "[nltk_data] Downloading package wordnet to /root/nltk_data...\n",
      "[nltk_data]   Unzipping corpora/wordnet.zip.\n"
     ]
    }
   ],
   "source": [
    "nltk.download('wordnet')\n",
    "\n",
    "\n",
    "def preprocess(message):\n",
    "    \"\"\"\n",
    "    This function takes a string as input, then performs these operations: \n",
    "        - lowercase\n",
    "        - remove URLs\n",
    "        - remove ticker symbols \n",
    "        - removes punctuation\n",
    "        - tokenize by splitting the string on whitespace \n",
    "        - removes any single character tokens\n",
    "    \n",
    "    Parameters\n",
    "    ----------\n",
    "        message : The text message to be preprocessed.\n",
    "        \n",
    "    Returns\n",
    "    -------\n",
    "        tokens: The preprocessed text into tokens.\n",
    "    \"\"\" \n",
    "    #TODO: Implement \n",
    "    \n",
    "    # Lowercase the twit message\n",
    "    text =  message.lower()\n",
    "    \n",
    "    # Replace URLs with a space in the message\n",
    "    # from https://stackoverflow.com/questions/161738/what-is-the-best-regular-expression-to-check-if-a-string-is-a-valid-url\n",
    "    url_regex = '((([A-Za-z]{3,9}:(?:\\/\\/)?)(?:[-;:&=\\+\\$,\\w]+@)?[A-Za-z0-9.-]+|(?:www.|[-;:&=\\+\\$,\\w]+@)[A-Za-z0-9.-]+)((?:\\/[\\+~%\\/.\\w\\-_]*)?\\??(?:[-\\+=&;%@.\\w_]*)#?(?:[\\w]*))?)'\n",
    "    \n",
    "    text = re.sub(url_regex, ' ', text)\n",
    "    \n",
    "    # Replace ticker symbols with a space. The ticker symbols are any stock symbol that starts with $.\n",
    "    tickers = '\\$\\w+'\n",
    "    text = re.sub(tickers, ' ', text)\n",
    "    \n",
    "    # Replace StockTwits usernames with a space. The usernames are any word that starts with @.\n",
    "    text = re.sub(r'@\\w+', ' ', text)\n",
    "\n",
    "    # Replace everything not a letter with a space\n",
    "    text = re.sub(r'[^a-z]', ' ', text)\n",
    "    \n",
    "    # Tokenize by splitting the string on whitespace into a list of words\n",
    "    tokens = text.strip().split()\n",
    "\n",
    "    # Lemmatize words using the WordNetLemmatizer. You can ignore any word that is not longer than one character.\n",
    "    wnl = nltk.stem.WordNetLemmatizer()\n",
    "    tokens = [wnl.lemmatize(w) for w in tokens]\n",
    "    \n",
    "    return tokens"
   ]
  },
  {
   "cell_type": "markdown",
   "metadata": {},
   "source": [
    "### Preprocess All the Twits \n",
    "Now we can preprocess each of the twits in our dataset. Apply the function `preprocess` to all the twit messages."
   ]
  },
  {
   "cell_type": "markdown",
   "metadata": {},
   "source": [
    "### Bag of Words\n",
    "Now with all of our messages tokenized, we want to create a vocabulary and count up how often each word appears in our entire corpus. Use the [`Counter`](https://docs.python.org/3.1/library/collections.html#collections.Counter) function to count up all the tokens."
   ]
  },
  {
   "cell_type": "code",
   "execution_count": 6,
   "metadata": {},
   "outputs": [],
   "source": [
    "# TODO Implement\n",
    "\n",
    "tokenized = [preprocess(m) for m in messages]\n"
   ]
  },
  {
   "cell_type": "code",
   "execution_count": 7,
   "metadata": {},
   "outputs": [],
   "source": [
    "from collections import Counter\n",
    "\"\"\"\n",
    "Create a vocabulary by using Bag of words\n",
    "\"\"\"\n",
    "\n",
    "# TODO: Implement \n",
    "t_stack = [word for twit in tokenized for word in twit]\n",
    "bow = Counter(t_stack)"
   ]
  },
  {
   "cell_type": "markdown",
   "metadata": {},
   "source": [
    "### Frequency of Words Appearing in Message\n",
    "With our vocabulary, now we'll remove some of the most common words such as 'the', 'and', 'it', etc. These words don't contribute to identifying sentiment and are really common, resulting in a lot of noise in our input. If we can filter these out, then our network should have an easier time learning.\n",
    "\n",
    "We also want to remove really rare words that show up in a only a few twits. Here you'll want to divide the count of each word by the number of messages. Then remove words that only appear in some small fraction of the messages."
   ]
  },
  {
   "cell_type": "code",
   "execution_count": 8,
   "metadata": {},
   "outputs": [
    {
     "name": "stdout",
     "output_type": "stream",
     "text": [
      "['the', 'to', 'a', 'is', 'for', 'on', 'of', 'and', 'in', 'this', 's', 'it', 'i', 'at', 'will']\n"
     ]
    },
    {
     "data": {
      "text/plain": [
       "6480"
      ]
     },
     "execution_count": 8,
     "metadata": {},
     "output_type": "execute_result"
    }
   ],
   "source": [
    "\"\"\"\n",
    "Set the following variables:\n",
    "    freqs\n",
    "    low_cutoff\n",
    "    high_cutoff\n",
    "    K_most_common\n",
    "\"\"\"\n",
    "\n",
    "# TODO Implement \n",
    "\n",
    "# Dictionary that contains the Frequency of words appearing in messages.\n",
    "# The key is the token and the value is the frequency of that word in the corpus.\n",
    "total_num_words = len(t_stack)\n",
    "freqs = {key: value/total_num_words for key, value in bow.items()}\n",
    "\n",
    "# Float that is the frequency cutoff. Drop words with a frequency that is lower or equal to this number.\n",
    "low_cutoff = .000005\n",
    "\n",
    "# Integer that is the cut off for most common words. Drop words that are the `high_cutoff` most common words.\n",
    "high_cutoff = 15\n",
    "\n",
    "# The k most common words in the corpus. Use `high_cutoff` as the k.\n",
    "K_most_common = [item[0] for item in bow.most_common(high_cutoff)]\n",
    "\n",
    "filtered_words = [word for word in freqs if (freqs[word] > low_cutoff and word not in K_most_common)]\n",
    "print(K_most_common)\n",
    "len(filtered_words) "
   ]
  },
  {
   "cell_type": "markdown",
   "metadata": {},
   "source": [
    "### Updating Vocabulary by Removing Filtered Words\n",
    "Let's creat three variables that will help with our vocabulary."
   ]
  },
  {
   "cell_type": "code",
   "execution_count": 9,
   "metadata": {},
   "outputs": [
    {
     "name": "stdout",
     "output_type": "stream",
     "text": [
      "0.0%\n",
      "10.0%\n",
      "20.0%\n",
      "30.0%\n",
      "40.0%\n",
      "50.0%\n",
      "60.0%\n",
      "70.0%\n",
      "80.0%\n",
      "90.0%\n"
     ]
    }
   ],
   "source": [
    "\"\"\"\n",
    "Set the following variables:\n",
    "    vocab\n",
    "    id2vocab\n",
    "    filtered\n",
    "\"\"\"\n",
    "\n",
    "#TODO Implement\n",
    "\n",
    "# A dictionary for the `filtered_words`. The key is the word and value is an id that represents the word. \n",
    "vocab = {word: ii+1 for ii, word in enumerate(filtered_words)}\n",
    "#print(vocab)\n",
    "# Reverse of the `vocab` dictionary. The key is word id and value is the word. \n",
    "\n",
    "id2vocab = {ii: word for word, ii in vocab.items()}\n",
    "# tokenized with the words not in `filtered_words` removed.\n",
    "\n",
    "#filtered = [[w for w in sublist if w in filtered_words] for sublist in tokenized]\n",
    "\n",
    "filtered=[]\n",
    "count = 0\n",
    "for twit in tokenized:\n",
    "    if count%(len(tokenized)/20) == 0:\n",
    "        print(str((count)/len(tokenized)*100) + '%')\n",
    "    filtered.append([w for w in twit if w in filtered_words])\n",
    "    count+=1\n"
   ]
  },
  {
   "cell_type": "markdown",
   "metadata": {},
   "source": [
    "### Balancing the classes\n",
    "Let's do a few last pre-processing steps. If we look at how our twits are labeled, we'll find that 50% of them are neutral. This means that our network will be 50% accurate just by guessing 0 every single time. To help our network learn appropriately, we'll want to balance our classes.\n",
    "That is, make sure each of our different sentiment scores show up roughly as frequently in the data.\n",
    "\n",
    "What we can do here is go through each of our examples and randomly drop twits with neutral sentiment. What should be the probability we drop these twits if we want to get around 20% neutral twits starting at 50% neutral? We should also take this opportunity to remove messages with length 0."
   ]
  },
  {
   "cell_type": "code",
   "execution_count": 10,
   "metadata": {},
   "outputs": [],
   "source": [
    "balanced = {'messages': [], 'sentiments':[]}\n",
    "\n",
    "n_neutral = sum(1 for each in sentiments if each == 2)\n",
    "N_examples = len(sentiments)\n",
    "keep_prob = (N_examples - n_neutral)/4/n_neutral\n",
    "\n",
    "for idx, sentiment in enumerate(sentiments):\n",
    "    message = filtered[idx]\n",
    "    if len(message) == 0:\n",
    "        # skip this message because it has length zero\n",
    "        continue\n",
    "    elif sentiment != 2 or random.random() < keep_prob:\n",
    "        balanced['messages'].append(message)\n",
    "        balanced['sentiments'].append(sentiment) "
   ]
  },
  {
   "cell_type": "markdown",
   "metadata": {},
   "source": [
    "If you did it correctly, you should see the following result "
   ]
  },
  {
   "cell_type": "code",
   "execution_count": 11,
   "metadata": {},
   "outputs": [
    {
     "data": {
      "text/plain": [
       "0.19443080653362332"
      ]
     },
     "execution_count": 11,
     "metadata": {},
     "output_type": "execute_result"
    }
   ],
   "source": [
    "n_neutral = sum(1 for each in balanced['sentiments'] if each == 2)\n",
    "N_examples = len(balanced['sentiments'])\n",
    "n_neutral/N_examples"
   ]
  },
  {
   "cell_type": "markdown",
   "metadata": {},
   "source": [
    "Finally let's convert our tokens into integer ids which we can pass to the network."
   ]
  },
  {
   "cell_type": "code",
   "execution_count": 12,
   "metadata": {},
   "outputs": [],
   "source": [
    "token_ids = [[vocab[word] for word in message] for message in balanced['messages']]\n",
    "sentiments = balanced['sentiments']"
   ]
  },
  {
   "cell_type": "markdown",
   "metadata": {},
   "source": [
    "## Neural Network\n",
    "Now we have our vocabulary which means we can transform our tokens into ids, which are then passed to our network. So, let's define the network now!\n",
    "\n",
    "Here is a nice diagram showing the network we'd like to build: \n",
    "\n",
    "#### Embed -> RNN -> Dense -> Softmax\n",
    "### Implement the text classifier\n",
    "Before we build text classifier, if you remember from the other network that you built in  \"Sentiment Analysis with an RNN\"  exercise  - which there, the network called \" SentimentRNN\", here we named it \"TextClassifer\" - consists of three main parts: 1) init function `__init__` 2) forward pass `forward`  3) hidden state `init_hidden`. \n",
    "\n",
    "This network is pretty similar to the network you built expect in the  `forward` pass, we use softmax instead of sigmoid. The reason we are not using sigmoid is that the output of NN is not a binary. In our network, sentiment scores have 5 possible outcomes. We are looking for an outcome with the highest probability thus softmax is a better choice."
   ]
  },
  {
   "cell_type": "code",
   "execution_count": 13,
   "metadata": {},
   "outputs": [],
   "source": [
    "class TextClassifier(nn.Module):\n",
    "    def __init__(self, vocab_size, embed_size, lstm_size, output_size, lstm_layers=1, dropout=0.1):\n",
    "        \"\"\"\n",
    "        Initialize the model by setting up the layers.\n",
    "        \n",
    "        Parameters\n",
    "        ----------\n",
    "            vocab_size : The vocabulary size.\n",
    "            embed_size : The embedding layer size.\n",
    "            lstm_size : The LSTM layer size.\n",
    "            output_size : The output size.\n",
    "            lstm_layers : The number of LSTM layers.\n",
    "            dropout : The dropout probability.\n",
    "        \"\"\"\n",
    "        \n",
    "        super().__init__()\n",
    "        self.vocab_size = vocab_size\n",
    "        self.embed_size = embed_size\n",
    "        self.lstm_size = lstm_size\n",
    "        self.output_size = output_size\n",
    "        self.lstm_layers = lstm_layers\n",
    "        self.dropout = dropout\n",
    "        \n",
    "        # TODO Implement\n",
    "\n",
    "        # Setup embedding layer\n",
    "        self.embedding = nn.Embedding(vocab_size, embed_size)\n",
    "        \n",
    "        # Setup additional layers\n",
    "        self.lstm = nn.LSTM(embed_size, lstm_size, lstm_layers, dropout=dropout)\n",
    "        self.dropout = nn.Dropout(.3)\n",
    "        \n",
    "        self.fc = nn.Linear(lstm_size, output_size)\n",
    "        self.softmax = nn.LogSoftmax(dim=1)\n",
    "\n",
    "\n",
    "    def init_hidden(self, batch_size):\n",
    "        \"\"\" \n",
    "        Initializes hidden state\n",
    "        \n",
    "        Parameters\n",
    "        ----------\n",
    "            batch_size : The size of batches.\n",
    "        \n",
    "        Returns\n",
    "        -------\n",
    "            hidden_state\n",
    "            \n",
    "        \"\"\"\n",
    "        \n",
    "        # TODO Implement \n",
    "        \n",
    "        # Create two new tensors with sizes n_layers x batch_size x hidden_dim,\n",
    "        \n",
    "        # initialized to zero, for hidden state and cell state of LSTM\n",
    "        weight = next(self.parameters()).data\n",
    "\n",
    "        \n",
    "        hidden = (weight.new(self.lstm_layers, batch_size, self.lstm_size).zero_(),\n",
    "                  weight.new(self.lstm_layers, batch_size, self.lstm_size).zero_())\n",
    "\n",
    "        return hidden\n",
    "\n",
    "\n",
    "    def forward(self, nn_input, hidden_state):\n",
    "        \"\"\"\n",
    "        Perform a forward pass of our model on nn_input.\n",
    "        \n",
    "        Parameters\n",
    "        ----------\n",
    "            nn_input : The batch of input to the NN.\n",
    "            hidden_state : The LSTM hidden state.\n",
    "\n",
    "        Returns\n",
    "        -------\n",
    "            logps: log softmax output\n",
    "            hidden_state: The new hidden state.\n",
    "\n",
    "        \"\"\"\n",
    "        \n",
    "        # TODO Implement \n",
    "        \n",
    "        batch_size = nn_input.size(1)\n",
    "        x = nn_input.long()\n",
    "        embed = self.embedding(x)\n",
    "        lstm_output, hidden_state = self.lstm(embed, hidden_state)\n",
    "        #lstm_output = lstm_output[-1]\n",
    "        lstm_out = lstm_output[-1,:,:]  # https://knowledge.udacity.com/questions/30112  \n",
    "    \n",
    "        logps = self.softmax(self.dropout(self.fc(lstm_out)))\n",
    "        #logps = logps[:, -1] # get last batch of labels\n",
    "        \n",
    "        \n",
    "        \n",
    "        return logps, hidden_state\n",
    "        "
   ]
  },
  {
   "cell_type": "markdown",
   "metadata": {},
   "source": [
    "### View Model"
   ]
  },
  {
   "cell_type": "code",
   "execution_count": 14,
   "metadata": {},
   "outputs": [
    {
     "name": "stdout",
     "output_type": "stream",
     "text": [
      "tensor([[-1.7516, -1.5273, -1.1707, -1.7828, -2.0318],\n",
      "        [-1.2984, -1.5369, -1.7681, -1.7681, -1.7681],\n",
      "        [-1.3372, -1.8172, -1.2279, -1.8433, -2.0895],\n",
      "        [-1.3452, -1.8265, -1.2105, -1.8265, -2.1245]])\n"
     ]
    }
   ],
   "source": [
    "model = TextClassifier(len(vocab), 10, 6, 5, dropout=0.1, lstm_layers=2)\n",
    "model.embedding.weight.data.uniform_(-1, 1)\n",
    "input = torch.randint(0, 1000, (5, 4), dtype=torch.int64)\n",
    "hidden = model.init_hidden(4)\n",
    "\n",
    "logps, _ = model.forward(input, hidden)\n",
    "print(logps)"
   ]
  },
  {
   "cell_type": "markdown",
   "metadata": {},
   "source": [
    "## Training\n",
    "### DataLoaders and Batching\n",
    "Now we should build a generator that we can use to loop through our data. It'll be more efficient if we can pass our sequences in as batches. Our input tensors should look like `(sequence_length, batch_size)`. So if our sequences are 40 tokens long and we pass in 25 sequences, then we'd have an input size of `(40, 25)`.\n",
    "\n",
    "If we set our sequence length to 40, what do we do with messages that are more or less than 40 tokens? For messages with fewer than 40 tokens, we will pad the empty spots with zeros. We should be sure to **left** pad so that the RNN starts from nothing before going through the data. If the message has 20 tokens, then the first 20 spots of our 40 long sequence will be 0. If a message has more than 40 tokens, we'll just keep the first 40 tokens."
   ]
  },
  {
   "cell_type": "code",
   "execution_count": 15,
   "metadata": {},
   "outputs": [],
   "source": [
    "def dataloader(messages, labels, sequence_length=30, batch_size=32, shuffle=False):\n",
    "    \"\"\" \n",
    "    Build a dataloader.\n",
    "    \"\"\"\n",
    "    if shuffle:\n",
    "        indices = list(range(len(messages)))\n",
    "        random.shuffle(indices)\n",
    "        messages = [messages[idx] for idx in indices]\n",
    "        labels = [labels[idx] for idx in indices]\n",
    "\n",
    "    total_sequences = len(messages)\n",
    "\n",
    "    for ii in range(0, total_sequences, batch_size):\n",
    "        batch_messages = messages[ii: ii+batch_size]\n",
    "        \n",
    "        # First initialize a tensor of all zeros\n",
    "        batch = torch.zeros((sequence_length, len(batch_messages)), dtype=torch.int64)\n",
    "        for batch_num, tokens in enumerate(batch_messages):\n",
    "            token_tensor = torch.tensor(tokens)\n",
    "            # Left pad!\n",
    "            start_idx = max(sequence_length - len(token_tensor), 0)\n",
    "            batch[start_idx:, batch_num] = token_tensor[:sequence_length]\n",
    "        \n",
    "        label_tensor = torch.tensor(labels[ii: ii+len(batch_messages)])\n",
    "        \n",
    "        yield batch, label_tensor"
   ]
  },
  {
   "cell_type": "markdown",
   "metadata": {},
   "source": [
    "### Training and  Validation\n",
    "With our data in nice shape, we'll split it into training and validation sets."
   ]
  },
  {
   "cell_type": "code",
   "execution_count": 16,
   "metadata": {},
   "outputs": [],
   "source": [
    "\"\"\"\n",
    "Split data into training and validation datasets. Use an appropriate split size.\n",
    "The features are the `token_ids` and the labels are the `sentiments`.\n",
    "\"\"\"   \n",
    "import numpy as np\n",
    "from sklearn.model_selection import train_test_split\n",
    "# split size 8/2\n",
    "train_features, valid_features, train_labels, valid_labels = train_test_split(token_ids, sentiments, test_size=.2, random_state=42)"
   ]
  },
  {
   "cell_type": "code",
   "execution_count": 17,
   "metadata": {},
   "outputs": [],
   "source": [
    "text_batch, labels = next(iter(dataloader(train_features, train_labels, sequence_length=20, batch_size=64)))\n",
    "model = TextClassifier(len(vocab)+1, 200, 128, 5, dropout=0.)\n",
    "hidden = model.init_hidden(64)\n",
    "logps, hidden = model.forward(text_batch, hidden)"
   ]
  },
  {
   "cell_type": "markdown",
   "metadata": {},
   "source": [
    "### Training\n",
    "It's time to train the neural network!"
   ]
  },
  {
   "cell_type": "code",
   "execution_count": 18,
   "metadata": {},
   "outputs": [],
   "source": [
    "import gc\n",
    "# clear cuda memory at start\n",
    "gc.collect()\n",
    "torch.cuda.empty_cache()"
   ]
  },
  {
   "cell_type": "code",
   "execution_count": 19,
   "metadata": {},
   "outputs": [
    {
     "data": {
      "text/plain": [
       "TextClassifier(\n",
       "  (embedding): Embedding(6481, 1024)\n",
       "  (lstm): LSTM(1024, 512, num_layers=2, dropout=0.2)\n",
       "  (dropout): Dropout(p=0.3)\n",
       "  (fc): Linear(in_features=512, out_features=5, bias=True)\n",
       "  (softmax): LogSoftmax()\n",
       ")"
      ]
     },
     "execution_count": 19,
     "metadata": {},
     "output_type": "execute_result"
    }
   ],
   "source": [
    "device = torch.device(\"cuda\" if torch.cuda.is_available() else \"cpu\")\n",
    "\n",
    "model = TextClassifier(len(vocab)+1, 1024, 512, 5, lstm_layers=2, dropout=0.2)\n",
    "model.embedding.weight.data.uniform_(-1, 1)\n",
    "model.to(device)"
   ]
  },
  {
   "cell_type": "code",
   "execution_count": 20,
   "metadata": {
    "scrolled": true
   },
   "outputs": [
    {
     "name": "stdout",
     "output_type": "stream",
     "text": [
      "Starting epoch 1\n",
      "Epoch:1/2... Step:100... Loss:1.264938... Val Loss:1.130594... Val Accuracy:0.545280...\n",
      "Saved model with new best accuracy\n",
      "Epoch:1/2... Step:200... Loss:1.013031... Val Loss:0.993536... Val Accuracy:0.599866...\n",
      "Saved model with new best accuracy\n",
      "Epoch:1/2... Step:300... Loss:1.188803... Val Loss:0.950111... Val Accuracy:0.629983...\n",
      "Saved model with new best accuracy\n",
      "Epoch:1/2... Step:400... Loss:1.098745... Val Loss:0.902931... Val Accuracy:0.638291...\n",
      "Saved model with new best accuracy\n",
      "Epoch:1/2... Step:500... Loss:1.133217... Val Loss:0.879694... Val Accuracy:0.657640...\n",
      "Saved model with new best accuracy\n",
      "Epoch:1/2... Step:600... Loss:1.035459... Val Loss:0.877246... Val Accuracy:0.667023...\n",
      "Saved model with new best accuracy\n",
      "Epoch:1/2... Step:700... Loss:1.023107... Val Loss:0.848384... Val Accuracy:0.670485...\n",
      "Saved model with new best accuracy\n",
      "Epoch:1/2... Step:800... Loss:0.858570... Val Loss:0.836669... Val Accuracy:0.675166...\n",
      "Saved model with new best accuracy\n",
      "Epoch:1/2... Step:900... Loss:1.001784... Val Loss:0.831519... Val Accuracy:0.679075...\n",
      "Saved model with new best accuracy\n",
      "Epoch:1/2... Step:1000... Loss:0.982736... Val Loss:0.812275... Val Accuracy:0.686678...\n",
      "Saved model with new best accuracy\n",
      "Epoch:1/2... Step:1100... Loss:1.067029... Val Loss:0.810474... Val Accuracy:0.690339...\n",
      "Saved model with new best accuracy\n",
      "Epoch:1/2... Step:1200... Loss:0.975461... Val Loss:0.803716... Val Accuracy:0.692430...\n",
      "Saved model with new best accuracy\n",
      "Epoch:1/2... Step:1300... Loss:0.821356... Val Loss:0.800637... Val Accuracy:0.690679...\n",
      "Epoch:1/2... Step:1400... Loss:1.029257... Val Loss:0.798415... Val Accuracy:0.695069...\n",
      "Saved model with new best accuracy\n",
      "Epoch:1/2... Step:1500... Loss:0.992675... Val Loss:0.791525... Val Accuracy:0.695400...\n",
      "Saved model with new best accuracy\n",
      "Epoch:1/2... Step:1600... Loss:0.992511... Val Loss:0.802950... Val Accuracy:0.689950...\n",
      "Epoch:1/2... Step:1700... Loss:1.076484... Val Loss:0.784448... Val Accuracy:0.697209...\n",
      "Saved model with new best accuracy\n",
      "Epoch:1/2... Step:1800... Loss:0.825845... Val Loss:0.780268... Val Accuracy:0.700174...\n",
      "Saved model with new best accuracy\n",
      "Epoch:1/2... Step:1900... Loss:0.949169... Val Loss:0.781470... Val Accuracy:0.700466...\n",
      "Saved model with new best accuracy\n",
      "Epoch:1/2... Step:2000... Loss:0.987102... Val Loss:0.771328... Val Accuracy:0.702678...\n",
      "Saved model with new best accuracy\n",
      "Epoch:1/2... Step:2100... Loss:0.935563... Val Loss:0.777250... Val Accuracy:0.701526...\n",
      "Epoch:1/2... Step:2200... Loss:0.922087... Val Loss:0.767936... Val Accuracy:0.705274...\n",
      "Saved model with new best accuracy\n",
      "Epoch:1/2... Step:2300... Loss:0.983998... Val Loss:0.771992... Val Accuracy:0.701399...\n",
      "Epoch:1/2... Step:2400... Loss:0.929560... Val Loss:0.766290... Val Accuracy:0.703762...\n",
      "Epoch:1/2... Step:2500... Loss:0.979344... Val Loss:0.766315... Val Accuracy:0.703062...\n",
      "Epoch:1/2... Step:2600... Loss:0.967607... Val Loss:0.768118... Val Accuracy:0.703971...\n",
      "Epoch:1/2... Step:2700... Loss:0.961318... Val Loss:0.769775... Val Accuracy:0.703689...\n",
      "Epoch:1/2... Step:2800... Loss:0.946985... Val Loss:0.767279... Val Accuracy:0.703669...\n",
      "Epoch:1/2... Step:2900... Loss:0.858372... Val Loss:0.766112... Val Accuracy:0.705220...\n",
      "Epoch:1/2... Step:3000... Loss:0.820633... Val Loss:0.760663... Val Accuracy:0.704895...\n",
      "Epoch:1/2... Step:3100... Loss:0.956136... Val Loss:0.767258... Val Accuracy:0.703208...\n",
      "Epoch:1/2... Step:3200... Loss:1.010563... Val Loss:0.766864... Val Accuracy:0.703976...\n",
      "Epoch:1/2... Step:3300... Loss:1.058565... Val Loss:0.757215... Val Accuracy:0.708585...\n",
      "Saved model with new best accuracy\n",
      "Epoch:1/2... Step:3400... Loss:0.878416... Val Loss:0.763793... Val Accuracy:0.707671...\n",
      "Epoch:1/2... Step:3500... Loss:0.866388... Val Loss:0.756779... Val Accuracy:0.708526...\n",
      "Epoch:1/2... Step:3600... Loss:0.864721... Val Loss:0.755817... Val Accuracy:0.709396...\n",
      "Saved model with new best accuracy\n",
      "Epoch:1/2... Step:3700... Loss:0.900628... Val Loss:0.756833... Val Accuracy:0.710485...\n",
      "Saved model with new best accuracy\n",
      "Epoch:1/2... Step:3800... Loss:0.912883... Val Loss:0.753170... Val Accuracy:0.709552...\n",
      "Epoch:1/2... Step:3900... Loss:0.988287... Val Loss:0.755121... Val Accuracy:0.709406...\n",
      "Epoch:1/2... Step:4000... Loss:0.948350... Val Loss:0.755312... Val Accuracy:0.709878...\n",
      "Epoch:1/2... Step:4100... Loss:0.819418... Val Loss:0.749991... Val Accuracy:0.709673...\n",
      "Epoch:1/2... Step:4200... Loss:0.939768... Val Loss:0.748711... Val Accuracy:0.712503...\n",
      "Saved model with new best accuracy\n",
      "Epoch:1/2... Step:4300... Loss:1.061026... Val Loss:0.751771... Val Accuracy:0.710724...\n",
      "Epoch:1/2... Step:4400... Loss:0.934810... Val Loss:0.746575... Val Accuracy:0.711992...\n",
      "Epoch:1/2... Step:4500... Loss:0.861505... Val Loss:0.753470... Val Accuracy:0.711336...\n",
      "Epoch:1/2... Step:4600... Loss:0.924856... Val Loss:0.748134... Val Accuracy:0.711409...\n",
      "Epoch:1/2... Step:4700... Loss:0.858994... Val Loss:0.748325... Val Accuracy:0.710505...\n",
      "Epoch:1/2... Step:4800... Loss:0.886842... Val Loss:0.744723... Val Accuracy:0.713256...\n",
      "Saved model with new best accuracy\n",
      "Epoch:1/2... Step:4900... Loss:0.907843... Val Loss:0.750324... Val Accuracy:0.711161...\n",
      "Epoch:1/2... Step:5000... Loss:0.869269... Val Loss:0.747345... Val Accuracy:0.714297...\n",
      "Saved model with new best accuracy\n",
      "Epoch:1/2... Step:5100... Loss:0.920497... Val Loss:0.745393... Val Accuracy:0.713140...\n",
      "Epoch:1/2... Step:5200... Loss:1.001695... Val Loss:0.744133... Val Accuracy:0.713611...\n",
      "Epoch:1/2... Step:5300... Loss:0.846678... Val Loss:0.745287... Val Accuracy:0.712284...\n",
      "Epoch:1/2... Step:5400... Loss:0.922567... Val Loss:0.748377... Val Accuracy:0.713086...\n",
      "Epoch:1/2... Step:5500... Loss:0.973572... Val Loss:0.744105... Val Accuracy:0.712629...\n",
      "Epoch:1/2... Step:5600... Loss:1.044368... Val Loss:0.745823... Val Accuracy:0.713091...\n",
      "Epoch:1/2... Step:5700... Loss:0.795185... Val Loss:0.743199... Val Accuracy:0.712488...\n",
      "Epoch:1/2... Step:5800... Loss:0.874914... Val Loss:0.739324... Val Accuracy:0.714360...\n",
      "Saved model with new best accuracy\n",
      "Epoch:1/2... Step:5900... Loss:0.861181... Val Loss:0.741340... Val Accuracy:0.713325...\n",
      "Epoch:1/2... Step:6000... Loss:0.805193... Val Loss:0.740809... Val Accuracy:0.715128...\n",
      "Saved model with new best accuracy\n",
      "Epoch:1/2... Step:6100... Loss:0.934489... Val Loss:0.740331... Val Accuracy:0.713961...\n",
      "Epoch:1/2... Step:6200... Loss:0.784027... Val Loss:0.741827... Val Accuracy:0.714044...\n",
      "Epoch:1/2... Step:6300... Loss:1.054465... Val Loss:0.743238... Val Accuracy:0.715984...\n",
      "Saved model with new best accuracy\n",
      "Epoch:1/2... Step:6400... Loss:0.851638... Val Loss:0.742825... Val Accuracy:0.714584...\n",
      "Starting epoch 2\n",
      "Epoch:2/2... Step:100... Loss:0.988105... Val Loss:0.740225... Val Accuracy:0.713762...\n",
      "Epoch:2/2... Step:200... Loss:0.865713... Val Loss:0.737256... Val Accuracy:0.713713...\n",
      "Epoch:2/2... Step:300... Loss:0.922962... Val Loss:0.740313... Val Accuracy:0.714783...\n",
      "Epoch:2/2... Step:400... Loss:0.812410... Val Loss:0.742968... Val Accuracy:0.712386...\n",
      "Epoch:2/2... Step:500... Loss:0.956102... Val Loss:0.738214... Val Accuracy:0.714375...\n",
      "Epoch:2/2... Step:600... Loss:0.797446... Val Loss:0.740289... Val Accuracy:0.713062...\n",
      "Epoch:2/2... Step:700... Loss:0.891196... Val Loss:0.738496... Val Accuracy:0.715084...\n",
      "Epoch:2/2... Step:800... Loss:0.801662... Val Loss:0.741011... Val Accuracy:0.713845...\n",
      "Epoch:2/2... Step:900... Loss:0.781168... Val Loss:0.744272... Val Accuracy:0.714078...\n",
      "Epoch:2/2... Step:1000... Loss:0.802480... Val Loss:0.739494... Val Accuracy:0.715031...\n",
      "Epoch:2/2... Step:1100... Loss:0.831764... Val Loss:0.743870... Val Accuracy:0.713874...\n",
      "Epoch:2/2... Step:1200... Loss:0.839739... Val Loss:0.741205... Val Accuracy:0.713757...\n",
      "Epoch:2/2... Step:1300... Loss:0.858674... Val Loss:0.739055... Val Accuracy:0.714520...\n",
      "Epoch:2/2... Step:1400... Loss:1.004545... Val Loss:0.735640... Val Accuracy:0.715619...\n",
      "Epoch:2/2... Step:1500... Loss:0.838739... Val Loss:0.740298... Val Accuracy:0.714263...\n",
      "Epoch:2/2... Step:1600... Loss:0.915068... Val Loss:0.740067... Val Accuracy:0.714428...\n",
      "Epoch:2/2... Step:1700... Loss:0.885076... Val Loss:0.737742... Val Accuracy:0.713752...\n"
     ]
    },
    {
     "name": "stdout",
     "output_type": "stream",
     "text": [
      "Epoch:2/2... Step:1800... Loss:0.996362... Val Loss:0.737098... Val Accuracy:0.714647...\n",
      "Epoch:2/2... Step:1900... Loss:0.954977... Val Loss:0.743198... Val Accuracy:0.712999...\n",
      "Epoch:2/2... Step:2000... Loss:0.912673... Val Loss:0.739591... Val Accuracy:0.715055...\n",
      "Epoch:2/2... Step:2100... Loss:0.933201... Val Loss:0.742836... Val Accuracy:0.714059...\n",
      "Epoch:2/2... Step:2200... Loss:0.970054... Val Loss:0.738109... Val Accuracy:0.714482...\n",
      "Epoch:2/2... Step:2300... Loss:1.041809... Val Loss:0.735566... Val Accuracy:0.716528...\n",
      "Saved model with new best accuracy\n",
      "Epoch:2/2... Step:2400... Loss:0.861592... Val Loss:0.739176... Val Accuracy:0.715454...\n",
      "Epoch:2/2... Step:2500... Loss:0.935277... Val Loss:0.737544... Val Accuracy:0.716810...\n",
      "Saved model with new best accuracy\n",
      "Epoch:2/2... Step:2600... Loss:0.952336... Val Loss:0.746323... Val Accuracy:0.717044...\n",
      "Saved model with new best accuracy\n",
      "Epoch:2/2... Step:2700... Loss:0.801818... Val Loss:0.734391... Val Accuracy:0.717209...\n",
      "Saved model with new best accuracy\n",
      "Epoch:2/2... Step:2800... Loss:0.765779... Val Loss:0.734530... Val Accuracy:0.717228...\n",
      "Saved model with new best accuracy\n",
      "Epoch:2/2... Step:2900... Loss:0.778661... Val Loss:0.734473... Val Accuracy:0.717491...\n",
      "Saved model with new best accuracy\n",
      "Epoch:2/2... Step:3000... Loss:0.833067... Val Loss:0.735290... Val Accuracy:0.717496...\n",
      "Saved model with new best accuracy\n",
      "Epoch:2/2... Step:3100... Loss:0.961964... Val Loss:0.732842... Val Accuracy:0.717943...\n",
      "Saved model with new best accuracy\n",
      "Epoch:2/2... Step:3200... Loss:0.875501... Val Loss:0.737246... Val Accuracy:0.716781...\n",
      "Epoch:2/2... Step:3300... Loss:0.968657... Val Loss:0.728930... Val Accuracy:0.718303...\n",
      "Saved model with new best accuracy\n",
      "Epoch:2/2... Step:3400... Loss:0.912724... Val Loss:0.732401... Val Accuracy:0.718186...\n",
      "Epoch:2/2... Step:3500... Loss:0.919494... Val Loss:0.734623... Val Accuracy:0.716635...\n",
      "Epoch:2/2... Step:3600... Loss:0.970985... Val Loss:0.732231... Val Accuracy:0.718006...\n",
      "Epoch:2/2... Step:3700... Loss:1.034220... Val Loss:0.737227... Val Accuracy:0.717724...\n",
      "Epoch:2/2... Step:3800... Loss:1.073264... Val Loss:0.733094... Val Accuracy:0.715566...\n",
      "Epoch:2/2... Step:3900... Loss:0.837034... Val Loss:0.735714... Val Accuracy:0.717350...\n",
      "Epoch:2/2... Step:4000... Loss:0.920105... Val Loss:0.733262... Val Accuracy:0.716533...\n",
      "Epoch:2/2... Step:4100... Loss:0.669670... Val Loss:0.735995... Val Accuracy:0.716864...\n",
      "Epoch:2/2... Step:4200... Loss:0.870618... Val Loss:0.733416... Val Accuracy:0.717467...\n",
      "Epoch:2/2... Step:4300... Loss:0.893930... Val Loss:0.732054... Val Accuracy:0.716839...\n",
      "Epoch:2/2... Step:4400... Loss:0.880058... Val Loss:0.731892... Val Accuracy:0.717097...\n",
      "Epoch:2/2... Step:4500... Loss:0.887719... Val Loss:0.731730... Val Accuracy:0.717131...\n",
      "Epoch:2/2... Step:4600... Loss:0.955485... Val Loss:0.733244... Val Accuracy:0.716810...\n",
      "Epoch:2/2... Step:4700... Loss:0.871668... Val Loss:0.731504... Val Accuracy:0.718395...\n",
      "Saved model with new best accuracy\n",
      "Epoch:2/2... Step:4800... Loss:0.928306... Val Loss:0.733271... Val Accuracy:0.718113...\n",
      "Epoch:2/2... Step:4900... Loss:0.890882... Val Loss:0.731639... Val Accuracy:0.718094...\n",
      "Epoch:2/2... Step:5000... Loss:0.976700... Val Loss:0.734087... Val Accuracy:0.718565...\n",
      "Saved model with new best accuracy\n",
      "Epoch:2/2... Step:5100... Loss:0.917441... Val Loss:0.731419... Val Accuracy:0.719110...\n",
      "Saved model with new best accuracy\n",
      "Epoch:2/2... Step:5200... Loss:0.856661... Val Loss:0.731573... Val Accuracy:0.718346...\n",
      "Epoch:2/2... Step:5300... Loss:0.945731... Val Loss:0.732862... Val Accuracy:0.717627...\n",
      "Epoch:2/2... Step:5400... Loss:0.792932... Val Loss:0.735498... Val Accuracy:0.716922...\n",
      "Epoch:2/2... Step:5500... Loss:0.862802... Val Loss:0.729844... Val Accuracy:0.718833...\n",
      "Epoch:2/2... Step:5600... Loss:0.925635... Val Loss:0.733093... Val Accuracy:0.716844...\n",
      "Epoch:2/2... Step:5700... Loss:0.917284... Val Loss:0.730861... Val Accuracy:0.718415...\n",
      "Epoch:2/2... Step:5800... Loss:0.873412... Val Loss:0.735258... Val Accuracy:0.717068...\n",
      "Epoch:2/2... Step:5900... Loss:0.871662... Val Loss:0.730708... Val Accuracy:0.718560...\n",
      "Epoch:2/2... Step:6000... Loss:0.802758... Val Loss:0.731393... Val Accuracy:0.718784...\n",
      "Epoch:2/2... Step:6100... Loss:0.970135... Val Loss:0.734686... Val Accuracy:0.718531...\n",
      "Epoch:2/2... Step:6200... Loss:0.797427... Val Loss:0.729838... Val Accuracy:0.719888...\n",
      "Saved model with new best accuracy\n",
      "Epoch:2/2... Step:6300... Loss:0.964126... Val Loss:0.729710... Val Accuracy:0.720004...\n",
      "Saved model with new best accuracy\n",
      "Epoch:2/2... Step:6400... Loss:0.726807... Val Loss:0.730988... Val Accuracy:0.718337...\n"
     ]
    }
   ],
   "source": [
    "\"\"\"\n",
    "Train your model with dropout. Make sure to clip your gradients.\n",
    "Print the training loss, validation loss, and validation accuracy for every 100 steps.\n",
    "\"\"\"\n",
    "\n",
    "epochs = 2\n",
    "# small batch size for memory allotment\n",
    "batch_size = 128\n",
    "sequence_length = 40\n",
    "learning_rate = .003\n",
    "clip=5 # gradient clipping\n",
    "\n",
    "every = 100\n",
    "criterion = nn.NLLLoss()\n",
    "optimizer = optim.Adam(model.parameters(), lr=learning_rate)\n",
    "model.train()\n",
    "\n",
    "best_val_acc = 0\n",
    "\n",
    "for epoch in range(epochs):\n",
    "    print('Starting epoch {}'.format(epoch + 1))\n",
    "    \n",
    "    steps = 0\n",
    "    hidden = model.init_hidden(batch_size)\n",
    "    \n",
    "    # split every train into batches using dataloader\n",
    "    \n",
    "    for text_batch, labels in dataloader(\n",
    "            train_features, train_labels, batch_size=batch_size, sequence_length=sequence_length, shuffle=True):\n",
    "        \n",
    "        if text_batch.size()!=torch.Size([sequence_length,batch_size]):\n",
    "            continue\n",
    "        \n",
    "        steps += 1\n",
    "        \n",
    "        # update hidden\n",
    "        hidden = tuple([each.data for each in hidden])\n",
    "        \n",
    "        # Set Device\n",
    "        text_batch, labels = text_batch.to(device), labels.to(device)\n",
    "        for each in hidden:\n",
    "            each.to(device)\n",
    "        \n",
    "        # Train Model\n",
    "        # per usual implementation\n",
    "        model.zero_grad()\n",
    "        \n",
    "        log_ps, hidden = model.forward(text_batch, hidden)\n",
    "        \n",
    "        loss = criterion(log_ps, labels)\n",
    "        \n",
    "        loss.backward()\n",
    "        \n",
    "        nn.utils.clip_grad_norm_(model.parameters(), clip)\n",
    "        \n",
    "        optimizer.step()\n",
    "        \n",
    "        if steps % every == 0:\n",
    "            # test validation every 'every' steps\n",
    "            model.eval()\n",
    "            val_losses = []\n",
    "            val_accuracy = []\n",
    "            \n",
    "            val_hidden = model.init_hidden(batch_size)\n",
    "            \n",
    "            for val_text_batch, val_labels in dataloader(\n",
    "            valid_features, valid_labels, batch_size = batch_size, sequence_length = sequence_length):\n",
    "                \n",
    "                if val_text_batch.size() != torch.Size([sequence_length, batch_size]):\n",
    "                    continue\n",
    "                \n",
    "                val_text_batch, val_labels = val_text_batch.to(device), val_labels.to(device)\n",
    "                \n",
    "                val_hidden = tuple([each.data for each in val_hidden])\n",
    "                \n",
    "                # move each validation hidden element to device\n",
    "                for each in val_hidden:\n",
    "                    each.to(device)\n",
    "                val_log_ps, hidden = model.forward(val_text_batch, val_hidden)\n",
    "                \n",
    "                val_loss = criterion(val_log_ps.squeeze(), val_labels)\n",
    "                val_losses.append(val_loss.item())\n",
    "                \n",
    "                val_ps = torch.exp(val_log_ps)\n",
    "                top_p, top_class = val_ps.topk(1, dim=1)\n",
    "                \n",
    "                equals = top_class == val_labels.view(*top_class.shape)\n",
    "                \n",
    "                val_accuracy.append(torch.mean(equals.type(torch.FloatTensor)).item())\n",
    "                #print(val_accuracy)\n",
    "                \n",
    "            \n",
    "            val_acc = np.average(val_accuracy)\n",
    "                \n",
    "            model.train()\n",
    "            \n",
    "            \n",
    "            # Print metrics\n",
    "            \n",
    "            # formatted printing!\n",
    "            print(\"Epoch:{}/{}...\".format(epoch+1, epochs),\n",
    "                  \"Step:{}...\".format(steps),\n",
    "                  \"Loss:{:.6f}...\".format(loss.item()),\n",
    "                  \"Val Loss:{:.6f}...\".format(np.average(val_losses)),\n",
    "                  \"Val Accuracy:{:.6f}...\".format(val_acc))\n",
    "            \n",
    "            # save best\n",
    "            \n",
    "            if val_acc > best_val_acc:\n",
    "                torch.save({\n",
    "                'epoch': epoch,\n",
    "                'step':steps,\n",
    "                #'model_state_dict': model.state_dic(),\n",
    "                #'optimizer_state_dict': optimizer.stat_dic(),\n",
    "                'loss': loss,\n",
    "                }, 'best_model')\n",
    "                best_val_acc = val_acc\n",
    "                print(\"Saved model with new best accuracy\")\n",
    "\n",
    "            \n"
   ]
  },
  {
   "cell_type": "markdown",
   "metadata": {},
   "source": [
    "## Making Predictions\n",
    "### Prediction \n",
    "Okay, now that you have a trained model, try it on some new twits and see if it works appropriately. Remember that for any new text, you'll need to preprocess it first before passing it to the network. Implement the `predict` function to generate the prediction vector from a message."
   ]
  },
  {
   "cell_type": "code",
   "execution_count": 25,
   "metadata": {},
   "outputs": [],
   "source": [
    "def predict(text, model, vocab):\n",
    "    \"\"\" \n",
    "    Make a prediction on a single sentence.\n",
    "\n",
    "    Parameters\n",
    "    ----------\n",
    "        text : The string to make a prediction on.\n",
    "        model : The model to use for making the prediction.\n",
    "        vocab : Dictionary for word to word ids. The key is the word and the value is the word id.\n",
    "\n",
    "    Returns\n",
    "    -------\n",
    "        pred : Prediction vector\n",
    "    \"\"\"    \n",
    "    \n",
    "    # TODO Implement\n",
    "    \n",
    "    tokens = preprocess(text)\n",
    "    \n",
    "    # Filter non-vocab words\n",
    "    tokens = [word for word in tokens if word in filtered_words]\n",
    "    \n",
    "    # Convert words to ids\n",
    "    tokens = [vocab[word] for word in tokens]\n",
    "        \n",
    "    # Adding a batch dimension\n",
    "    text_input = torch.tensor(tokens).unsqueeze(1)\n",
    "\n",
    "    # Get the NN output\n",
    "    hidden = model.init_hidden(text_input.size(1))\n",
    "    logps, _ = model.forward(text_input,hidden)\n",
    "    \n",
    "    # Take the exponent of the NN output to get a range of 0 to 1 for each label.\n",
    "    pred = torch.exp(logps)\n",
    "    \n",
    "    return pred.detach().numpy()\n",
    "    "
   ]
  },
  {
   "cell_type": "code",
   "execution_count": 33,
   "metadata": {},
   "outputs": [
    {
     "name": "stdout",
     "output_type": "stream",
     "text": [
      "[[ 0.00299778  0.04704447  0.03089876  0.62741584  0.29164314]]\n"
     ]
    }
   ],
   "source": [
    "text = \"Google is working on self driving cars, I'm bullish on $goog\"\n",
    "model.eval()\n",
    "model.to(\"cpu\")\n",
    "predict(text, model, vocab)\n",
    "sentiment=predict(text, model, vocab)\n",
    "print(sentiment)"
   ]
  },
  {
   "cell_type": "markdown",
   "metadata": {},
   "source": [
    "### Questions: What is the prediction of the model? What is the uncertainty of the prediction?\n",
    "\n",
    "\n",
    "The prediction of the model is that the sentiment label is +1, indicating a positive sentiment.\n",
    "The model evaluates with a test accuracy of 62.74%, which indicates that there is still 47.26% of uncertainty in our prediction."
   ]
  },
  {
   "cell_type": "markdown",
   "metadata": {},
   "source": [
    "Now we have a trained model and we can make predictions. We can use this model to track the sentiments of various stocks by predicting the sentiments of twits as they are coming in. Now we have a stream of twits. For each of those twits, pull out the stocks mentioned in them and keep track of the sentiments. Remember that in the twits, ticker symbols are encoded with a dollar sign as the first character, all caps, and 2-4 letters, like $AAPL. Ideally, you'd want to track the sentiments of the stocks in your universe and use this as a signal in your larger model(s).\n",
    "\n",
    "## Testing\n",
    "### Load the Data "
   ]
  },
  {
   "cell_type": "code",
   "execution_count": 34,
   "metadata": {},
   "outputs": [],
   "source": [
    "with open(os.path.join('..', '..', 'data', 'project_6_stocktwits', 'test_twits.json'), 'r') as f:\n",
    "    test_data = json.load(f)"
   ]
  },
  {
   "cell_type": "markdown",
   "metadata": {},
   "source": [
    "### Twit Stream"
   ]
  },
  {
   "cell_type": "code",
   "execution_count": 35,
   "metadata": {},
   "outputs": [
    {
     "data": {
      "text/plain": [
       "{'message_body': '$JWN has moved -1.69% on 10-31. Check out the movement and peers at  https://dividendbot.com?s=JWN',\n",
       " 'timestamp': '2018-11-01T00:00:05Z'}"
      ]
     },
     "execution_count": 35,
     "metadata": {},
     "output_type": "execute_result"
    }
   ],
   "source": [
    "def twit_stream():\n",
    "    for twit in test_data['data']:\n",
    "        yield twit\n",
    "\n",
    "next(twit_stream())"
   ]
  },
  {
   "cell_type": "markdown",
   "metadata": {},
   "source": [
    "Using the `prediction` function, let's apply it to a stream of twits."
   ]
  },
  {
   "cell_type": "code",
   "execution_count": 36,
   "metadata": {},
   "outputs": [],
   "source": [
    "def score_twits(stream, model, vocab, universe):\n",
    "    \"\"\" \n",
    "    Given a stream of twits and a universe of tickers, return sentiment scores for tickers in the universe.\n",
    "    \"\"\"\n",
    "    for twit in stream:\n",
    "\n",
    "        # Get the message text\n",
    "        text = twit['message_body']\n",
    "        symbols = re.findall('\\$[A-Z]{2,4}', text)\n",
    "        score = predict(text, model, vocab)\n",
    "\n",
    "        for symbol in symbols:\n",
    "            if symbol in universe:\n",
    "                yield {'symbol': symbol, 'score': score, 'timestamp': twit['timestamp']}"
   ]
  },
  {
   "cell_type": "code",
   "execution_count": 37,
   "metadata": {},
   "outputs": [
    {
     "data": {
      "text/plain": [
       "{'symbol': '$AAPL',\n",
       " 'score': array([[ 0.09126665,  0.10763841,  0.28618225,  0.20392765,  0.310985  ]], dtype=float32),\n",
       " 'timestamp': '2018-11-01T00:00:18Z'}"
      ]
     },
     "execution_count": 37,
     "metadata": {},
     "output_type": "execute_result"
    }
   ],
   "source": [
    "universe = {'$BBRY', '$AAPL', '$AMZN', '$BABA', '$YHOO', '$LQMT', '$FB', '$GOOG', '$BBBY', '$JNUG', '$SBUX', '$MU'}\n",
    "score_stream = score_twits(twit_stream(), model, vocab, universe)\n",
    "\n",
    "next(score_stream)"
   ]
  },
  {
   "cell_type": "markdown",
   "metadata": {},
   "source": [
    "That's it. You have successfully built a model for sentiment analysis! "
   ]
  },
  {
   "cell_type": "markdown",
   "metadata": {},
   "source": [
    "## Submission\n",
    "Now that you're done with the project, it's time to submit it. Click the submit button in the bottom right. One of our reviewers will give you feedback on your project with a pass or not passed grade. You can continue to the next section while you wait for feedback."
   ]
  },
  {
   "cell_type": "code",
   "execution_count": null,
   "metadata": {},
   "outputs": [],
   "source": []
  }
 ],
 "metadata": {
  "kernelspec": {
   "display_name": "Python 3",
   "language": "python",
   "name": "python3"
  },
  "language_info": {
   "codemirror_mode": {
    "name": "ipython",
    "version": 3
   },
   "file_extension": ".py",
   "mimetype": "text/x-python",
   "name": "python",
   "nbconvert_exporter": "python",
   "pygments_lexer": "ipython3",
   "version": "3.6.3"
  }
 },
 "nbformat": 4,
 "nbformat_minor": 2
}
